{
 "cells": [
  {
   "cell_type": "code",
   "execution_count": 1,
   "id": "2fff8397",
   "metadata": {},
   "outputs": [],
   "source": [
    "import numpy as np"
   ]
  },
  {
   "cell_type": "code",
   "execution_count": 2,
   "id": "4599fc68",
   "metadata": {},
   "outputs": [
    {
     "data": {
      "text/plain": [
       "array([10, 20, 30])"
      ]
     },
     "execution_count": 2,
     "metadata": {},
     "output_type": "execute_result"
    }
   ],
   "source": [
    "n1=np.array([10,20,30])\n",
    "n1"
   ]
  },
  {
   "cell_type": "code",
   "execution_count": 3,
   "id": "2a7dc874",
   "metadata": {},
   "outputs": [
    {
     "data": {
      "text/plain": [
       "array([[1, 2, 3],\n",
       "       [4, 5, 6]])"
      ]
     },
     "execution_count": 3,
     "metadata": {},
     "output_type": "execute_result"
    }
   ],
   "source": [
    "n2=np.array([[1,2,3],[4,5,6]])\n",
    "n2"
   ]
  },
  {
   "cell_type": "code",
   "execution_count": 4,
   "id": "3e52b99b",
   "metadata": {},
   "outputs": [
    {
     "data": {
      "text/plain": [
       "array([[0., 0.]])"
      ]
     },
     "execution_count": 4,
     "metadata": {},
     "output_type": "execute_result"
    }
   ],
   "source": [
    "n3=np.zeros((1,2))\n",
    "n3"
   ]
  },
  {
   "cell_type": "code",
   "execution_count": 5,
   "id": "6449c811",
   "metadata": {},
   "outputs": [
    {
     "data": {
      "text/plain": [
       "array([[0., 0., 0., 0.],\n",
       "       [0., 0., 0., 0.]])"
      ]
     },
     "execution_count": 5,
     "metadata": {},
     "output_type": "execute_result"
    }
   ],
   "source": [
    "n4=np.zeros((2,4))\n",
    "n4"
   ]
  },
  {
   "cell_type": "code",
   "execution_count": 6,
   "id": "be813b6b",
   "metadata": {},
   "outputs": [
    {
     "data": {
      "text/plain": [
       "array([[1., 1., 1., 1., 1.],\n",
       "       [1., 1., 1., 1., 1.],\n",
       "       [1., 1., 1., 1., 1.]])"
      ]
     },
     "execution_count": 6,
     "metadata": {},
     "output_type": "execute_result"
    }
   ],
   "source": [
    "n5=np.ones((3,5))\n",
    "n5"
   ]
  },
  {
   "cell_type": "code",
   "execution_count": 7,
   "id": "a83097cc",
   "metadata": {},
   "outputs": [
    {
     "data": {
      "text/plain": [
       "array([1., 1., 1., 1., 1.])"
      ]
     },
     "execution_count": 7,
     "metadata": {},
     "output_type": "execute_result"
    }
   ],
   "source": [
    "n6=np.ones(5)\n",
    "n6"
   ]
  },
  {
   "cell_type": "code",
   "execution_count": 8,
   "id": "34ef5cc0",
   "metadata": {},
   "outputs": [
    {
     "data": {
      "text/plain": [
       "array([[5, 5, 5, 5],\n",
       "       [5, 5, 5, 5]])"
      ]
     },
     "execution_count": 8,
     "metadata": {},
     "output_type": "execute_result"
    }
   ],
   "source": [
    "n7=np.full((2,4),5)\n",
    "n7"
   ]
  },
  {
   "cell_type": "code",
   "execution_count": 10,
   "id": "db8f64a9",
   "metadata": {},
   "outputs": [
    {
     "data": {
      "text/plain": [
       "array([10, 11, 12, 13, 14, 15, 16, 17, 18, 19, 20, 21, 22, 23, 24, 25, 26,\n",
       "       27, 28, 29])"
      ]
     },
     "execution_count": 10,
     "metadata": {},
     "output_type": "execute_result"
    }
   ],
   "source": [
    "n8=np.arange(10,30)\n",
    "n8"
   ]
  },
  {
   "cell_type": "code",
   "execution_count": 11,
   "id": "ee4949ca",
   "metadata": {},
   "outputs": [
    {
     "data": {
      "text/plain": [
       "array([10, 15, 20, 25])"
      ]
     },
     "execution_count": 11,
     "metadata": {},
     "output_type": "execute_result"
    }
   ],
   "source": [
    "n9=np.arange(10,30,5)\n",
    "n9"
   ]
  },
  {
   "cell_type": "code",
   "execution_count": 17,
   "id": "41fa97cc",
   "metadata": {},
   "outputs": [
    {
     "data": {
      "text/plain": [
       "6"
      ]
     },
     "execution_count": 17,
     "metadata": {},
     "output_type": "execute_result"
    }
   ],
   "source": [
    "n10=np.random.randint(10)\n",
    "n10"
   ]
  },
  {
   "cell_type": "code",
   "execution_count": 19,
   "id": "b3bbb470",
   "metadata": {},
   "outputs": [
    {
     "data": {
      "text/plain": [
       "array([21,  8, 60, 55, 41])"
      ]
     },
     "execution_count": 19,
     "metadata": {},
     "output_type": "execute_result"
    }
   ],
   "source": [
    "n11=np.random.randint(1,100,5)\n",
    "n11"
   ]
  },
  {
   "cell_type": "code",
   "execution_count": 20,
   "id": "c9d33d6c",
   "metadata": {},
   "outputs": [
    {
     "data": {
      "text/plain": [
       "array([0.40976464, 0.69472861, 0.17007989, 0.56531126, 0.22372143])"
      ]
     },
     "execution_count": 20,
     "metadata": {},
     "output_type": "execute_result"
    }
   ],
   "source": [
    "n12=np.random.rand(5)\n",
    "n12"
   ]
  },
  {
   "cell_type": "code",
   "execution_count": 24,
   "id": "f75c1e13",
   "metadata": {},
   "outputs": [
    {
     "data": {
      "text/plain": [
       "(2, 3)"
      ]
     },
     "execution_count": 24,
     "metadata": {},
     "output_type": "execute_result"
    }
   ],
   "source": [
    "n13=np.array([[1,2,3],[4,5,6]])\n",
    "n13.shape"
   ]
  },
  {
   "cell_type": "code",
   "execution_count": 25,
   "id": "3839e62b",
   "metadata": {},
   "outputs": [
    {
     "data": {
      "text/plain": [
       "array([[1, 2],\n",
       "       [3, 4],\n",
       "       [5, 6]])"
      ]
     },
     "execution_count": 25,
     "metadata": {},
     "output_type": "execute_result"
    }
   ],
   "source": [
    "n13.shape=(3,2)\n",
    "n13"
   ]
  },
  {
   "cell_type": "code",
   "execution_count": 27,
   "id": "8ad2f373",
   "metadata": {},
   "outputs": [
    {
     "name": "stdout",
     "output_type": "stream",
     "text": [
      "[1 2 3]\n",
      "[4 5 6]\n"
     ]
    }
   ],
   "source": [
    "#joining arrays\n",
    "n14=np.array([1,2,3])\n",
    "n15=np.array([4,5,6])\n",
    "print(n14)\n",
    "print(n15)"
   ]
  },
  {
   "cell_type": "code",
   "execution_count": 28,
   "id": "cb0ff22e",
   "metadata": {},
   "outputs": [
    {
     "data": {
      "text/plain": [
       "array([[1, 2, 3],\n",
       "       [4, 5, 6]])"
      ]
     },
     "execution_count": 28,
     "metadata": {},
     "output_type": "execute_result"
    }
   ],
   "source": [
    "#vstack-verical stack->vertically joins array\n",
    "np.vstack((n14,n15))"
   ]
  },
  {
   "cell_type": "code",
   "execution_count": 29,
   "id": "97ac0656",
   "metadata": {},
   "outputs": [
    {
     "data": {
      "text/plain": [
       "array([1, 2, 3, 4, 5, 6])"
      ]
     },
     "execution_count": 29,
     "metadata": {},
     "output_type": "execute_result"
    }
   ],
   "source": [
    "#hstack-horizonal stack->horizontally joins array\n",
    "np.hstack((n14,n15))"
   ]
  },
  {
   "cell_type": "code",
   "execution_count": 30,
   "id": "dd3a1a8f",
   "metadata": {},
   "outputs": [
    {
     "data": {
      "text/plain": [
       "array([[1, 4],\n",
       "       [2, 5],\n",
       "       [3, 6]])"
      ]
     },
     "execution_count": 30,
     "metadata": {},
     "output_type": "execute_result"
    }
   ],
   "source": [
    "#column_stack->joins array with columns\n",
    "np.column_stack((n14,n15))"
   ]
  },
  {
   "cell_type": "code",
   "execution_count": 32,
   "id": "eac969f5",
   "metadata": {},
   "outputs": [
    {
     "name": "stdout",
     "output_type": "stream",
     "text": [
      "[1 2 3 4 5 6]\n",
      "[4 5 6 7 8 9]\n"
     ]
    }
   ],
   "source": [
    "n16=np.array([1,2,3,4,5,6])\n",
    "n17=np.array([4,5,6,7,8,9])\n",
    "print(n16)\n",
    "print(n17)"
   ]
  },
  {
   "cell_type": "code",
   "execution_count": 35,
   "id": "264cd4ad",
   "metadata": {},
   "outputs": [
    {
     "data": {
      "text/plain": [
       "array([1, 2, 3, 4, 5, 6, 7, 8, 9])"
      ]
     },
     "execution_count": 35,
     "metadata": {},
     "output_type": "execute_result"
    }
   ],
   "source": [
    "np.union1d(n16,n17)"
   ]
  },
  {
   "cell_type": "code",
   "execution_count": 36,
   "id": "7366ce2e",
   "metadata": {},
   "outputs": [
    {
     "data": {
      "text/plain": [
       "array([4, 5, 6])"
      ]
     },
     "execution_count": 36,
     "metadata": {},
     "output_type": "execute_result"
    }
   ],
   "source": [
    "np.intersect1d(n16,n17)"
   ]
  },
  {
   "cell_type": "code",
   "execution_count": 37,
   "id": "aff5c2a6",
   "metadata": {},
   "outputs": [
    {
     "data": {
      "text/plain": [
       "array([1, 2, 3])"
      ]
     },
     "execution_count": 37,
     "metadata": {},
     "output_type": "execute_result"
    }
   ],
   "source": [
    "np.setdiff1d(n16,n17)"
   ]
  },
  {
   "cell_type": "code",
   "execution_count": 38,
   "id": "9c8d5935",
   "metadata": {},
   "outputs": [
    {
     "data": {
      "text/plain": [
       "array([7, 8, 9])"
      ]
     },
     "execution_count": 38,
     "metadata": {},
     "output_type": "execute_result"
    }
   ],
   "source": [
    "np.setdiff1d(n17,n16)"
   ]
  },
  {
   "cell_type": "code",
   "execution_count": 40,
   "id": "235bd9c8",
   "metadata": {},
   "outputs": [
    {
     "data": {
      "text/plain": [
       "60"
      ]
     },
     "execution_count": 40,
     "metadata": {},
     "output_type": "execute_result"
    }
   ],
   "source": [
    "np.sum([n16,n17])"
   ]
  },
  {
   "cell_type": "code",
   "execution_count": 43,
   "id": "d14d6f1c",
   "metadata": {},
   "outputs": [
    {
     "data": {
      "text/plain": [
       "array([21, 39])"
      ]
     },
     "execution_count": 43,
     "metadata": {},
     "output_type": "execute_result"
    }
   ],
   "source": [
    "np.sum([n16,n17],axis=1)"
   ]
  },
  {
   "cell_type": "code",
   "execution_count": 53,
   "id": "e5976185",
   "metadata": {},
   "outputs": [
    {
     "data": {
      "text/plain": [
       "array([10, 20, 30, 40])"
      ]
     },
     "execution_count": 53,
     "metadata": {},
     "output_type": "execute_result"
    }
   ],
   "source": [
    "n18=np.array([10,20,30,40])\n",
    "n18"
   ]
  },
  {
   "cell_type": "code",
   "execution_count": 54,
   "id": "7b0c258c",
   "metadata": {},
   "outputs": [
    {
     "data": {
      "text/plain": [
       "array([15, 25, 35, 45])"
      ]
     },
     "execution_count": 54,
     "metadata": {},
     "output_type": "execute_result"
    }
   ],
   "source": [
    "n18=n18+5 #perform +-*/\n",
    "n18"
   ]
  },
  {
   "cell_type": "code",
   "execution_count": 55,
   "id": "e35005bc",
   "metadata": {},
   "outputs": [
    {
     "data": {
      "text/plain": [
       "30.0"
      ]
     },
     "execution_count": 55,
     "metadata": {},
     "output_type": "execute_result"
    }
   ],
   "source": [
    "np.mean(n18)"
   ]
  },
  {
   "cell_type": "code",
   "execution_count": 56,
   "id": "ac643f2c",
   "metadata": {},
   "outputs": [
    {
     "data": {
      "text/plain": [
       "11.180339887498949"
      ]
     },
     "execution_count": 56,
     "metadata": {},
     "output_type": "execute_result"
    }
   ],
   "source": [
    "np.std(n18)"
   ]
  },
  {
   "cell_type": "code",
   "execution_count": 57,
   "id": "34ee2ab6",
   "metadata": {},
   "outputs": [
    {
     "data": {
      "text/plain": [
       "30.0"
      ]
     },
     "execution_count": 57,
     "metadata": {},
     "output_type": "execute_result"
    }
   ],
   "source": [
    "np.median(n18)"
   ]
  },
  {
   "cell_type": "code",
   "execution_count": null,
   "id": "6e25e02e",
   "metadata": {},
   "outputs": [],
   "source": []
  }
 ],
 "metadata": {
  "kernelspec": {
   "display_name": "Python 3",
   "language": "python",
   "name": "python3"
  },
  "language_info": {
   "codemirror_mode": {
    "name": "ipython",
    "version": 3
   },
   "file_extension": ".py",
   "mimetype": "text/x-python",
   "name": "python",
   "nbconvert_exporter": "python",
   "pygments_lexer": "ipython3",
   "version": "3.8.8"
  }
 },
 "nbformat": 4,
 "nbformat_minor": 5
}
